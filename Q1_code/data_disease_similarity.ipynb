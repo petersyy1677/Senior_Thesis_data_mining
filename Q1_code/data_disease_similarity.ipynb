{
 "cells": [
  {
   "cell_type": "code",
   "execution_count": 4,
   "metadata": {
    "collapsed": true,
    "pycharm": {
     "is_executing": false
    }
   },
   "outputs": [],
   "source": [
    "#Yueyang Shen EECS 476 Winter 2020\n",
    "#In this notebook, we imported a 300*300 disease similarity matrix index\n",
    "# (file lap_matrix_300.csv) and the other file are the indexes of the diseases\n",
    "#(file disease_index.csv) and output the filtered Louvain algorithm based clustering.\n",
    "\n",
    "\n",
    "import numpy as np\n",
    "#we know that the disease similarity matrix is 300*300\n",
    "\n",
    "\n",
    "disease = []\n",
    "with open('disease_index.csv', 'r', encoding='utf-8') as f:\n",
    "    for line in f:\n",
    "        line_arr = line.split(',')\n",
    "        disease.append(line_arr[1])\n",
    "        \n",
    "    f.close()\n",
    "\n",
    "similarity_matrix = np.zeros((300,300))\n",
    "row = 0\n",
    "\n",
    "with open('lap_matrix_300.csv', 'r', encoding='utf-8') as f:\n",
    "    for line in f:\n",
    "        line_arr = line.split(',')\n",
    "        for column in range(300):\n",
    "            similarity_matrix[row,column] = line_arr[column]\n",
    "        row += 1\n",
    "    f.close()    \n",
    "\n"
   ]
  },
  {
   "cell_type": "code",
   "execution_count": 5,
   "outputs": [
    {
     "name": "stdout",
     "text": [
      "The mean is 0.2822605203182166 We therefore cutoff at 0.3\n"
     ],
     "output_type": "stream"
    }
   ],
   "source": [
    "#retrieve the similarity mean and cut off\n",
    "mean = np.mean(similarity_matrix)\n",
    "print(\"The mean is\", mean, \"We therefore cutoff at 0.3\")"
   ],
   "metadata": {
    "collapsed": false,
    "pycharm": {
     "name": "#%%\n",
     "is_executing": false
    }
   }
  },
  {
   "cell_type": "code",
   "execution_count": 6,
   "outputs": [
    {
     "name": "stdout",
     "text": [
      "{'Renal Insufficiency\\n': 0, 'Diabetic Nephropathies\\n': 0, 'Torsades de Pointes\\n': 1, 'Azotemia\\n': 1, '\"Hearing Loss\\n': 2, 'Nausea\\n': 1, 'Acute Coronary Syndrome\\n': 3, '\"Leishmaniasis\\n': 3, 'Headache\\n': 1, 'Diabetic Cardiomyopathies\\n': 0, 'Hepatic Encephalopathy\\n': 1, 'Arteriosclerosis\\n': 1, 'Sarcoidosis\\n': 3, '\"Sarcoma\\n': 1, '\"Blindness\\n': 1, '\"Ophthalmoplegia\\n': 3, 'Vision Disorders\\n': 1, 'Sarcoma\\n': 0, 'Myocarditis\\n': 2, 'Oral Ulcer\\n': 1, 'Retinal Diseases\\n': 0, 'Urticaria\\n': 3, '\"Pregnancy Complications\\n': 3, 'Pneumonia\\n': 0, '\"Nephritis\\n': 1, 'Thrombocytopenia\\n': 1, 'Hallucinations\\n': 1, 'Endomyocardial Fibrosis\\n': 2, '\"Dermatitis\\n': 0, 'Nephrotic Syndrome\\n': 1, 'Anemia\\n': 0, 'Neural Tube Defects\\n': 0, 'Glomerulonephritis\\n': 0, 'Heat Stroke\\n': 3, 'Myasthenia Gravis\\n': 1, 'Cardiovascular Abnormalities\\n': 0, 'Stomach Diseases\\n': 1, 'Hyperuricemia\\n': 2, 'Uveitis\\n': 1, 'Cystitis\\n': 1, 'Crohn Disease\\n': 3, 'Lung Diseases\\n': 0, 'Pruritus\\n': 1, 'Venous Thromboembolism\\n': 3, 'Anthracosis\\n': 3, 'Hypothermia\\n': 0, 'Hypercalcemia\\n': 3, 'Osteoarthritis\\n': 0, 'Pleurisy\\n': 3, '\"Glomerulonephritis\\n': 2, 'Heart Arrest\\n': 1, 'Severe Acute Respiratory Syndrome\\n': 4, 'Albuminuria\\n': 0, 'Coronavirus Infections\\n': 4, '\"Renal Insufficiency\\n': 2, 'Tobacco Use Disorder\\n': 3, 'Coronary Restenosis\\n': 3, 'Cholangiocarcinoma\\n': 0, 'Alveolar Bone Loss\\n': 2, 'Tachycardia\\n': 0, 'Vascular Diseases\\n': 0, '\"Brain Injuries\\n': 3, '\"Liver Failure\\n': 0, 'Cardiovascular Diseases\\n': 0, 'Emphysema\\n': 0, '\"Enterocolitis\\n': 2, 'Ischemia\\n': 0, 'Respiratory Hypersensitivity\\n': 0, '\"Melanoma\\n': 2, 'Pulmonary Emphysema\\n': 3, 'Ureteral Obstruction\\n': 0, 'Drug Eruptions\\n': 1, 'Manganese Poisoning\\n': 3, 'Nephrosis\\n': 1, 'Sepsis\\n': 0, '\"Vasculitis\\n': 1, 'Soft Tissue Neoplasms\\n': 3, 'Anaphylaxis\\n': 1, 'Eosinophilia\\n': 1, 'Migraine Disorders\\n': 1, 'Silicosis\\n': 3, 'Multiple Organ Failure\\n': 1, 'Colitis\\n': 0, 'Vascular System Injuries\\n': 3, 'Peritonitis\\n': 2, 'Lymphopenia\\n': 1, '\"Abortion\\n': 0, 'Hypoglycemia\\n': 1, 'Coxsackievirus Infections\\n': 3, 'Respiratory Insufficiency\\n': 1, 'Hypoalbuminemia\\n': 1, 'Cystic Fibrosis\\n': 3, 'Brain Edema\\n': 2, 'Coma\\n': 1, 'Corneal Diseases\\n': 1, 'Nephrocalcinosis\\n': 1, '\"Pulmonary Disease\\n': 0, 'Berylliosis\\n': 3, '\"Pain\\n': 1, 'Exanthema\\n': 1, 'Polymyositis\\n': 3, 'Spinal Cord Injuries\\n': 0, 'Cardiotoxicity\\n': 0, 'Anorexia\\n': 0, 'Hemolytic-Uremic Syndrome\\n': 3, 'Inflammatory Bowel Diseases\\n': 3, 'Arsenic Poisoning\\n': 0, 'COVID-19\\n': 3, 'Genetic Predisposition to Disease\\n': 5, '\"Kidney Tubular Necrosis\\n': 1, 'Gastrointestinal Hemorrhage\\n': 1, 'Hepatitis C\\n': 2, 'Intracranial Hypertension\\n': 1, '\"Asthma\\n': 3, 'Burns\\n': 3, '\"Cardiac Output\\n': 1, 'Multiple Myeloma\\n': 0, 'Drug Hypersensitivity\\n': 0, 'Chlamydia Infections\\n': 3, 'Asbestosis\\n': 3, '\"Infarction\\n': 0, 'Brain Ischemia\\n': 0, 'Muscular Diseases\\n': 0, 'HIV Wasting Syndrome\\n': 3, 'Leukopenia\\n': 1, 'Asthma\\n': 0, '\"Porphyria\\n': 1, 'Hypotension\\n': 0, 'Neointima\\n': 2, 'Hyperkalemia\\n': 1, 'Fatigue\\n': 1, 'Diabetic Neuropathies\\n': 0, 'Arthralgia\\n': 1, 'Amyotrophic Lateral Sclerosis\\n': 0, 'Myocardial Stunning\\n': 3, 'Vomiting\\n': 1, 'Kidney Neoplasms\\n': 0, 'Metabolic Syndrome\\n': 0, 'Calcinosis\\n': 0, 'Placenta Diseases\\n': 1, 'Purpura\\n': 1, '\"Respiratory Distress Syndrome\\n': 0, 'Airway Obstruction\\n': 1, 'Osteolysis\\n': 3, 'Multiple Sclerosis\\n': 3, 'Hypokalemia\\n': 1, 'Pulmonary Edema\\n': 0, 'Hearing Disorders\\n': 1, 'Spinal Cord Compression\\n': 3, 'Dermatitis\\n': 0, '\"Anemia\\n': 0, 'Stevens-Johnson Syndrome\\n': 0, '\"Hepatitis\\n': 0, 'Alkalosis\\n': 1, '\"Glomerulosclerosis\\n': 0, 'Hyperbilirubinemia\\n': 1, '\"Osteoporosis\\n': 3, 'Cardiomyopathies\\n': 0, '\"Purpura\\n': 1, 'Neuromuscular Manifestations\\n': 1, 'Fanconi Anemia\\n': 2, 'Lethargy\\n': 1, 'Cerebrovascular Disorders\\n': 1, 'Acquired Hyperostosis Syndrome\\n': 3, 'Neuralgia\\n': 1, 'Nephritis\\n': 1, 'Thyroid Neoplasms\\n': 0, 'HIV Infections\\n': 0, 'Head and Neck Neoplasms\\n': 0, 'Heart Block\\n': 1, 'Cardiovirus Infections\\n': 3, 'Gastrointestinal Diseases\\n': 1, '\"Death\\n': 1, '\"Hypersensitivity\\n': 1, 'Mitochondrial Myopathies\\n': 3, 'Brain Infarction\\n': 2, 'Neurodegenerative Diseases\\n': 0, 'Hypersensitivity\\n': 0, 'Schizophrenia\\n': 0, 'Reperfusion Injury\\n': 0, 'Polyuria\\n': 1, '\"Mesothelioma\\n': 0, 'Mouth Neoplasms\\n': 0, '\"Tachycardia\\n': 1, 'Subarachnoid Hemorrhage\\n': 3, 'Angioedema\\n': 1, 'Leishmaniasis\\n': 3, 'Dermatomyositis\\n': 3, 'Behcet Syndrome\\n': 1, 'Ventricular Dysfunction\\n': 2, 'Myocardial Reperfusion Injury\\n': 0, '\"Kidney Failure\\n': 0, 'Gout\\n': 3, 'Pre-Eclampsia\\n': 0, 'Psoriasis\\n': 0, 'Cerebral Infarction\\n': 1, '\"Burns\\n': 3, 'Wounds and Injuries\\n': 2, 'Trigeminal Neuralgia\\n': 2, '\"Hypertension\\n': 0, 'MELAS Syndrome\\n': 3, '\"Vasospasm\\n': 2, '\"Ischemic Attack\\n': 2, 'Hearing Loss\\n': 2, '\"Influenza\\n': 2, 'Carotid Artery Diseases\\n': 2, '\"Hernia\\n': 0, 'Parkinson Disease\\n': 0, 'Heart Valve Diseases\\n': 0, 'Hyperoxaluria\\n': 3, 'Fever\\n': 0, 'Catalepsy\\n': 0, 'Hyperhomocysteinemia\\n': 2, 'Sleep Wake Disorders\\n': 1, '\"Shock\\n': 2, 'Hyperalgesia\\n': 0, 'Respiratory Tract Diseases\\n': 2, 'Hepatolenticular Degeneration\\n': 3, 'Hepatitis\\n': 0, 'Hypoxia\\n': 0, 'Extravasation of Diagnostic and Therapeutic Materials\\n': 1, '\"Leukemia-Lymphoma\\n': 2, 'Graft vs Host Disease\\n': 1, 'Ventricular Remodeling\\n': 0, 'Bronchial Hyperreactivity\\n': 0, 'Pleural Diseases\\n': 3, 'Pancreatitis\\n': 2, 'Drug Overdose\\n': 1, 'Liver Failure\\n': 1, 'Amyotrophic lateral sclerosis 1\\n': 6, '\"Infant\\n': 1, 'Vascular Remodeling\\n': 1, 'Diabetic Angiopathies\\n': 2, '\"Meningitis\\n': 1, 'Premature Birth\\n': 0, 'Brain Injuries\\n': 0, 'Infections\\n': 1, 'Pancytopenia\\n': 1, '\"Radiation Injuries\\n': 3, 'Nervous System Diseases\\n': 0, 'Glioma\\n': 0, 'Malaria\\n': 3, '\"Aortic Aneurysm\\n': 0, 'Autoimmune Diseases\\n': 0, 'Macular Degeneration\\n': 2, 'Skin Diseases\\n': 0, '\"Epilepsy\\n': 0, 'Bronchopulmonary Dysplasia\\n': 1, 'Heart Failure\\n': 0, 'Hyperinsulinism\\n': 0, 'Acute Lung Injury\\n': 0, 'Precursor T-Cell Lymphoblastic Leukemia-Lymphoma\\n': 2, 'Pleural Effusion\\n': 1, 'Diabetic Retinopathy\\n': 0, 'Anuria\\n': 1, 'Leukocytosis\\n': 1, 'Pulmonary Fibrosis\\n': 0, '\"Scleroderma\\n': 2, 'Rhabdomyolysis\\n': 1, 'Osteoporosis\\n': 0, '\"Aneurysm\\n': 1, 'Vitiligo\\n': 3, 'Thrombosis\\n': 0, '\"Angina\\n': 3, 'Stroke\\n': 0, '\"Lupus Erythematosus\\n': 0, 'Eye Diseases\\n': 1, 'Hyponatremia\\n': 1, 'Status Epilepticus\\n': 0, 'Hepatic Insufficiency\\n': 2, '\"Fibromatosis\\n': 3, 'Venous Thrombosis\\n': 1, 'Nephrosclerosis\\n': 1, 'Stomach Ulcer\\n': 0, 'Hyperemia\\n': 0, 'Urinary Bladder Diseases\\n': 1, '\"Colitis\\n': 0, 'Mucositis\\n': 1, 'Hemochromatosis\\n': 3, '\"Muscular Dystrophy\\n': 2, 'Respiratory Syncytial Virus Infections\\n': 2, 'Neurogenic Inflammation\\n': 2, 'Muscular Atrophy\\n': 0, 'Lung Injury\\n': 0, 'Neutropenia\\n': 1, 'Cachexia\\n': 3, '\"Obstetric Labor\\n': 1, 'Amnesia\\n': 0, 'Peptic Ulcer\\n': 3, 'Cholestasis\\n': 0, 'Hemolysis\\n': 0, 'Postoperative Complications\\n': 1, 'Kidney Calculi\\n': 2, 'Oral Submucous Fibrosis\\n': 3, 'Uremia\\n': 0, 'Entamoebiasis\\n': 3, 'Retinal Degeneration\\n': 1, 'Staphylococcal Infections\\n': 1, '\"Cholestasis\\n': 0, 'Methemoglobinemia': 1}\n",
      "{96, 1, 2, 37, 104, 59}\nNumber of clusters 7.0\n"
     ],
     "output_type": "stream"
    },
    {
     "name": "stderr",
     "text": [
      "'c' argument looks like a single numeric RGB or RGBA sequence, which should be avoided as value-mapping will have precedence in case its length matches with 'x' & 'y'.  Please use a 2-D array with a single row if you really want to specify the same RGB or RGBA value for all points.\n",
      "'c' argument looks like a single numeric RGB or RGBA sequence, which should be avoided as value-mapping will have precedence in case its length matches with 'x' & 'y'.  Please use a 2-D array with a single row if you really want to specify the same RGB or RGBA value for all points.\n",
      "'c' argument looks like a single numeric RGB or RGBA sequence, which should be avoided as value-mapping will have precedence in case its length matches with 'x' & 'y'.  Please use a 2-D array with a single row if you really want to specify the same RGB or RGBA value for all points.\n",
      "'c' argument looks like a single numeric RGB or RGBA sequence, which should be avoided as value-mapping will have precedence in case its length matches with 'x' & 'y'.  Please use a 2-D array with a single row if you really want to specify the same RGB or RGBA value for all points.\n"
     ],
     "output_type": "stream"
    },
    {
     "data": {
      "text/plain": "<Figure size 432x288 with 1 Axes>",
      "image/png": "[encoded data removed]"
     },
     "metadata": {},
     "output_type": "display_data"
    }
   ],
   "source": [
    "import networkx as nx\n",
    "import matplotlib.pyplot as plt\n",
    "import matplotlib.cm as cm\n",
    "fig = plt.gcf()\n",
    "#apply Louvain\n",
    "#Tanimoto coefficient with 0.5 cutoff\n",
    "G2 = nx.Graph()\n",
    "\n",
    "for i in range(len(disease)):\n",
    "    G2.add_node(disease[i])\n",
    "for i in range(len(disease)):\n",
    "    for j in range(i,len(disease)):\n",
    "        if similarity_matrix [i,j]>0.3:\n",
    "            G2.add_edge(disease[i],disease[j])\n",
    "#apply louvain algorithm to detect communities\n",
    "import community as community_louvain\n",
    "partition = community_louvain.best_partition(G2)\n",
    "print(partition)\n",
    "size = float(len(set(partition.values())))\n",
    "pos = nx.spring_layout(G2)\n",
    "count = 0.\n",
    "#colors = ['b', 'g', 'r', 'c', 'm', 'y', 'k', 'w']\n",
    "#m for purple\n",
    "#number of cluster number\n",
    "color_set = set()\n",
    "for com in set(partition.values()) :\n",
    "    count = count + 1.\n",
    "    list_nodes = [nodes for nodes in partition.keys()\n",
    "                                if partition[nodes] == com]\n",
    "    color_set.add(len(list_nodes))\n",
    "#draw a rainbow\n",
    "colors = cm.rainbow(np.linspace(0, 1, len(color_set)))\n",
    "#the size of the colorset\n",
    "print(color_set)\n",
    "color_list = list(color_set)\n",
    "count = 0.\n",
    "cluster_list = []\n",
    "for com in set(partition.values()) :\n",
    "    count = count + 1.\n",
    "    list_nodes = [nodes for nodes in partition.keys()\n",
    "                                if partition[nodes] == com]\n",
    "    cluster_list.append(list_nodes)\n",
    "    for i in range(len(color_list)):\n",
    "        if(color_list[i]==len(list_nodes)) and len(list_nodes)>2:\n",
    "            nx.draw_networkx_nodes(G2, pos, list_nodes, node_size = 5,node_color = colors[i])\n",
    "print(\"Number of clusters\",count)\n",
    "#nx.draw_networkx_edges(G2, pos, alpha=0.5)\n",
    "plt.show()\n",
    "fig.savefig(\"Louvain_disease\")\n"
   ],
   "metadata": {
    "collapsed": false,
    "pycharm": {
     "name": "#%%\n",
     "is_executing": false
    }
   }
  }
 ],
 "metadata": {
  "language_info": {
   "codemirror_mode": {
    "name": "ipython",
    "version": 2
   },
   "file_extension": ".py",
   "mimetype": "text/x-python",
   "name": "python",
   "nbconvert_exporter": "python",
   "pygments_lexer": "ipython2",
   "version": "2.7.6"
  },
  "kernelspec": {
   "name": "python3",
   "language": "python",
   "display_name": "Python 3"
  },
  "pycharm": {
   "stem_cell": {
    "cell_type": "raw",
    "source": [],
    "metadata": {
     "collapsed": false
    }
   }
  }
 },
 "nbformat": 4,
 "nbformat_minor": 0
}